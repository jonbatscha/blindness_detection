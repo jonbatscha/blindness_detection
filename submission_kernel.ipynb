{
 "cells": [
  {
   "cell_type": "markdown",
   "metadata": {},
   "source": [
    "# kaggle submission kernel"
   ]
  },
  {
   "cell_type": "code",
   "execution_count": null,
   "metadata": {},
   "outputs": [],
   "source": [
    "###################################################################\n",
    "#EDIT THESE\n",
    "FILENAME = 'model_a.h5'\n",
    "FOLDER = 'aptos-alpha'\n",
    "#END EDITS\n",
    "###################################################################\n",
    "\n",
    "import numpy as np # linear algebra\n",
    "import pandas as pd # data processing, CSV file I/O (e.g. pd.read_csv)\n",
    "\n",
    "import os\n",
    "\n",
    "from pathlib import Path\n",
    "from tensorflow.keras import models\n",
    "from tensorflow.keras import Model\n",
    "from tensorflow.keras.preprocessing import image\n",
    "\n",
    "import os\n",
    "\n",
    "import pandas as pd\n",
    "import numpy as np\n",
    "\n",
    "from tensorflow.keras.preprocessing.image import ImageDataGenerator\n",
    "\n",
    "HOME_DIR = Path('/kaggle')\n",
    "PROJECT_DIR = HOME_DIR\n",
    "INPUT_DIR = PROJECT_DIR/'input'\n",
    "APTOS_DIR = INPUT_DIR/'aptos2019-blindness-detection'\n",
    "TEST_DIR = APTOS_DIR/'test_images'\n",
    "TEST_CSV = APTOS_DIR/'test.csv'\n",
    "MODEL_PATH = INPUT_DIR/FOLDER/FILENAME\n",
    "\n",
    "model = models.load_model(str(MODEL_PATH))\n",
    "\n",
    "test_df = pd.read_csv(TEST_CSV)\n",
    "\n",
    "guesses = []\n",
    "\n",
    "for index,row in test_df.iterrows():\n",
    "    \n",
    "    fname = row['id_code']+'.png'\n",
    "    \n",
    "    img_path = TEST_DIR/fname\n",
    "    \n",
    "    img = image.load_img(str(img_path),target_size=(150,150))\n",
    "    \n",
    "    x = image.img_to_array(img)/255.\n",
    "    \n",
    "    x = np.expand_dims(x, axis=0)\n",
    "    \n",
    "    images = np.vstack([x])\n",
    "    \n",
    "    classes = model.predict(images, batch_size=10)\n",
    "    \n",
    "    guesses += [classes[0][0]]\n",
    "\n",
    "rounded_guesses = []\n",
    "\n",
    "for index, pred in enumerate(guesses):\n",
    "    \n",
    "    rounded_guesses += [int(round(pred))]\n",
    "\n",
    "test_df['diagnosis'] = pd.Series(rounded_guesses)\n",
    "\n",
    "test_df.to_csv('submission.csv',index=False)\n",
    "\n",
    "del model\n",
    "\n",
    "# Any results you write to the current directory are saved as output."
   ]
  }
 ],
 "metadata": {
  "kernelspec": {
   "display_name": "Python 3",
   "language": "python",
   "name": "python3"
  },
  "language_info": {
   "codemirror_mode": {
    "name": "ipython",
    "version": 3
   },
   "file_extension": ".py",
   "mimetype": "text/x-python",
   "name": "python",
   "nbconvert_exporter": "python",
   "pygments_lexer": "ipython3",
   "version": "3.5.2"
  }
 },
 "nbformat": 4,
 "nbformat_minor": 2
}
